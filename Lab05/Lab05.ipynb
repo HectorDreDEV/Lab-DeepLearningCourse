{
 "cells": [
  {
   "cell_type": "markdown",
   "metadata": {
    "colab_type": "text",
    "id": "Y6DyphAUEBOi"
   },
   "source": [
    "# Lab 05: MobileNet\n",
    "\n",
    "Trong bài thực hành này:\n",
    "- Cài đặt, train MobileNet với data MNIST\n",
    "\n",
    "\n",
    "Reference:\n",
    "- MobileNet V1: MobileNets: Efficient Convolutional Neural Networks for Mobile Vision Applications, https://arxiv.org/abs/1704.04861"
   ]
  },
  {
   "cell_type": "markdown",
   "metadata": {
    "colab_type": "text",
    "id": "iWA8vNYyEBOj"
   },
   "source": [
    "## 1. Xây dựng MobileNet bằng tf.keras.layers\n",
    "\n",
    "Trong phần này chúng ta sẽ xây dựng và huấn luyện model ResNet-34 trên dataset MNIST (ảnh được resize)"
   ]
  },
  {
   "cell_type": "code",
   "execution_count": null,
   "metadata": {
    "colab": {},
    "colab_type": "code",
    "id": "o7yiMO-bEBOl"
   },
   "outputs": [],
   "source": [
    "#import thư viện cần thiết\n",
    "## thư viện machine learning và hỗ trợ\n",
    "import tensorflow as tf\n",
    "from tensorflow import keras\n",
    "import numpy as np\n",
    "\n",
    "## thư viện để vẽ đồ thị\n",
    "import matplotlib.pyplot as plt\n"
   ]
  },
  {
   "cell_type": "code",
   "execution_count": null,
   "metadata": {
    "colab": {
     "base_uri": "https://localhost:8080/",
     "height": 1000
    },
    "colab_type": "code",
    "id": "GiL32W9MVMbY",
    "outputId": "7d29ce6e-2454-4fc8-e8f7-8a680622f73a"
   },
   "outputs": [],
   "source": [
    "mobilenet = keras.applications.mobilenet.MobileNet(input_shape=(32,32,1), \n",
    "                                                   alpha=1.0, \n",
    "                                                   depth_multiplier=1, \n",
    "                                                   dropout=1e-3, \n",
    "                                                   include_top=True, \n",
    "                                                   weights=None, \n",
    "                                                   input_tensor=None, \n",
    "                                                   pooling=None, \n",
    "                                                   classes=10)\n",
    "mobilenet.summary()"
   ]
  },
  {
   "cell_type": "markdown",
   "metadata": {
    "colab_type": "text",
    "id": "L2l2tYgIEBOr"
   },
   "source": [
    "### 1.1 Depthwise Separable Convolution\n",
    "\n",
    "Trong phần này sẽ xây dựng lớp DepthwiseSeparableConvolution gồm \n",
    "- Depthwise Convolution: tích chập cho từng channel của input, kernel_size=[3,3]\n",
    "- Pointwise convolution: là lớp convolution thông thường kernel size [1,1] với input từ Depthwise Convolution\n",
    "\n",
    "<img src=\"DepthSeparableConvolution.png\" width=\"40%\" height=\"40%\">\n",
    "\n",
    "Hình trên bên phải vẽ cấu trúc của lớp Depthwise Separable Convolution"
   ]
  },
  {
   "cell_type": "code",
   "execution_count": null,
   "metadata": {
    "colab": {},
    "colab_type": "code",
    "id": "aaP1rRKmPMi3"
   },
   "outputs": [],
   "source": [
    "## Import các layer cần thiết\n",
    "from tensorflow.keras.layers import Input, Dense, DepthwiseConv2D, Convolution2D, MaxPool2D, BatchNormalization, ReLU, GlobalAveragePooling2D\n",
    "from tensorflow.keras.regularizers import l2\n",
    "\n",
    "## Định nghĩa 1 Depthwise Separable Convolution\n",
    "class DepthwiseSeparableConvolution(keras.layers.Layer):\n",
    "\n",
    "    def __init__(self, n_filters=64, l2_regularizer=0.0, down_sampling=False):\n",
    "        ## Gọi hàm khởi tạo của keras.layers.Layer và lưu lại các thông số\n",
    "        super(DepthwiseSeparableConvolution, self).__init__()\n",
    "        self.n_filters = n_filters\n",
    "        self.down_sampling = down_sampling\n",
    "        self.l2_regularizer = l2_regularizer\n",
    "\n",
    "    def build(self, input_shape):\n",
    "        \n",
    "        ## Nếu cần down sampling thì convolutional layer dùng strides=[2,2]\n",
    "        strides = [1,1]\n",
    "        if self.down_sampling:\n",
    "            strides = [2,2]\n",
    "        \n",
    "        ##Khai báo các layer \n",
    "        self.depthwise_conv = DepthwiseConv2D(kernel_size=[3,3],\n",
    "                                              strides=strides,\n",
    "                                              padding='same',\n",
    "                                              use_bias=False,\n",
    "                                              activation=None)\n",
    "        self.depthwise_batch = BatchNormalization()\n",
    "        self.depthwise_relu = ReLU()\n",
    "\n",
    "        self.pointwise_conv = Convolution2D(filters=self.n_filters,\n",
    "                                            kernel_size=[1,1],\n",
    "                                            strides=[1,1],\n",
    "                                            padding='same',\n",
    "                                            use_bias=False,\n",
    "                                            kernel_regularizer=l2(self.l2_regularizer),\n",
    "                                            activation=None)\n",
    "        self.pointwise_batch = BatchNormalization()\n",
    "        \n",
    "        self.pointwise_relu = ReLU()\n",
    "\n",
    "    def call(self, inputs):\n",
    "        \n",
    "        ## Thiết lập các input cho các layer đã khai báo\n",
    "        x = inputs\n",
    "        x = self.depthwise_conv(x)\n",
    "        x = self.depthwise_batch(x)\n",
    "        x = self.depthwise_relu(x)\n",
    "        x = self.pointwise_conv(x)\n",
    "        x = self.pointwise_batch(x)\n",
    "        x = self.pointwise_relu(x)\n",
    "        return x"
   ]
  },
  {
   "cell_type": "markdown",
   "metadata": {
    "colab_type": "text",
    "id": "6F2ZxxXzT-54"
   },
   "source": [
    "### 1.2 Baseline MobileNet\n",
    "\n",
    "<img src=\"MobileNETv1.png\" width=\"40%\" height=\"40%\">\n",
    "\n",
    "Hình trên vẽ các cấu trúc mạng MobileNetV1"
   ]
  },
  {
   "cell_type": "code",
   "execution_count": null,
   "metadata": {
    "colab": {
     "base_uri": "https://localhost:8080/",
     "height": 1000
    },
    "colab_type": "code",
    "id": "8c6cqf3MEBOr",
    "outputId": "c8d96bb1-de9c-4951-ec8e-459ab95d58e4"
   },
   "outputs": [],
   "source": [
    "\n",
    "l2_regularizer_rate = 0.0\n",
    "\n",
    "inputs = keras.layers.Input(shape=(32,32,1))\n",
    "\n",
    "conv1 = Convolution2D(filters=32,\n",
    "                      kernel_size=[3,3],\n",
    "                      strides=[2,2],\n",
    "                      padding='same',\n",
    "                      use_bias=False,\n",
    "                      kernel_regularizer=l2(l2_regularizer_rate),\n",
    "                      activation=None)(inputs)\n",
    "\n",
    "batch1 = BatchNormalization()(conv1)        \n",
    "\n",
    "relu1 = ReLU()(batch1)\n",
    "\n",
    "\n",
    "dw_pw_conv = DepthwiseSeparableConvolution(n_filters=64,\n",
    "                                            l2_regularizer=l2_regularizer_rate,\n",
    "                                            down_sampling=False)(relu1)\n",
    "\n",
    "####\n",
    "dw_pw_conv = DepthwiseSeparableConvolution(n_filters=128,\n",
    "                                           l2_regularizer=l2_regularizer_rate,\n",
    "                                           down_sampling=True)(dw_pw_conv)\n",
    "\n",
    "dw_pw_conv = DepthwiseSeparableConvolution(n_filters=128,\n",
    "                                           l2_regularizer=l2_regularizer_rate,\n",
    "                                           down_sampling=False)(dw_pw_conv)\n",
    "\n",
    "####\n",
    "dw_pw_conv = DepthwiseSeparableConvolution(n_filters=256,\n",
    "                                           l2_regularizer=l2_regularizer_rate,\n",
    "                                           down_sampling=True)(dw_pw_conv)\n",
    "\n",
    "dw_pw_conv = DepthwiseSeparableConvolution(n_filters=256,\n",
    "                                           l2_regularizer=l2_regularizer_rate,\n",
    "                                           down_sampling=False)(dw_pw_conv)\n",
    "\n",
    "####\n",
    "dw_pw_conv = DepthwiseSeparableConvolution(n_filters=512,\n",
    "                                           l2_regularizer=l2_regularizer_rate,\n",
    "                                           down_sampling=True)(dw_pw_conv)\n",
    "\n",
    "dw_pw_conv = DepthwiseSeparableConvolution(n_filters=512,\n",
    "                                           l2_regularizer=l2_regularizer_rate,\n",
    "                                           down_sampling=False)(dw_pw_conv)\n",
    "\n",
    "dw_pw_conv = DepthwiseSeparableConvolution(n_filters=512,\n",
    "                                           l2_regularizer=l2_regularizer_rate,\n",
    "                                           down_sampling=False)(dw_pw_conv)\n",
    "\n",
    "dw_pw_conv = DepthwiseSeparableConvolution(n_filters=512,\n",
    "                                           l2_regularizer=l2_regularizer_rate,\n",
    "                                           down_sampling=False)(dw_pw_conv)\n",
    "\n",
    "dw_pw_conv = DepthwiseSeparableConvolution(n_filters=512,\n",
    "                                           l2_regularizer=l2_regularizer_rate,\n",
    "                                           down_sampling=False)(dw_pw_conv)\n",
    "\n",
    "dw_pw_conv = DepthwiseSeparableConvolution(n_filters=512,\n",
    "                                           l2_regularizer=l2_regularizer_rate,\n",
    "                                           down_sampling=False)(dw_pw_conv)\n",
    "\n",
    "#####\n",
    "dw_pw_conv = DepthwiseSeparableConvolution(n_filters=1024,\n",
    "                                           l2_regularizer=l2_regularizer_rate,\n",
    "                                           down_sampling=True)(dw_pw_conv)\n",
    "\n",
    "#####\n",
    "dw_pw_conv = DepthwiseSeparableConvolution(n_filters=1024,\n",
    "                                           l2_regularizer=l2_regularizer_rate,\n",
    "                                           down_sampling=True)(dw_pw_conv)\n",
    "\n",
    "avage_pool = GlobalAveragePooling2D()(dw_pw_conv)\n",
    "\n",
    "softmax = Dense(units=10, activation='softmax')(avage_pool)\n",
    "\n",
    "## Compile model\n",
    "model = keras.models.Model(inputs=inputs, outputs=softmax)\n",
    "model.compile(optimizer=keras.optimizers.Adam(), \n",
    "             loss=tf.keras.losses.sparse_categorical_crossentropy,\n",
    "             metrics=[\"accuracy\"])\n",
    "    \n",
    "\n",
    "## In toàn bộ cấu trúc của model\n",
    "print(\"Cấu trúc của model: \")\n",
    "model.summary()\n",
    "\n"
   ]
  },
  {
   "cell_type": "markdown",
   "metadata": {
    "colab_type": "text",
    "id": "8hnPV9b7EBOu"
   },
   "source": [
    "### 1.3 Resize MNIST"
   ]
  },
  {
   "cell_type": "code",
   "execution_count": null,
   "metadata": {
    "colab": {
     "base_uri": "https://localhost:8080/",
     "height": 34
    },
    "colab_type": "code",
    "id": "ZzEiSsxeEBOv",
    "outputId": "6e7486e2-c281-4f10-e943-26fa0d46cac2"
   },
   "outputs": [],
   "source": [
    "\n",
    "# Tải dataset MNIST từ tensorflow\n",
    "## MNIST là bài toán dự đoán một ảnh thể hiện ký tự số nào\n",
    "\n",
    "## tải MNIST dataset từ keras\n",
    "(X_train, y_train), (X_test, y_test) = keras.datasets.mnist.load_data()\n",
    "##resacle ảnh thành ảnh thực trong đoạn [0,1]\n",
    "X_train, X_test = X_train/255.0, X_test/255.0\n",
    "\n",
    "##in dataset\n",
    "print(X_train.shape, y_train.shape, X_test.shape, y_test.shape)\n",
    "\n"
   ]
  },
  {
   "cell_type": "code",
   "execution_count": null,
   "metadata": {
    "colab": {
     "base_uri": "https://localhost:8080/",
     "height": 34
    },
    "colab_type": "code",
    "id": "rbLofc7iEBOz",
    "outputId": "5be040e8-bc38-4413-9d76-3c843edbd98f"
   },
   "outputs": [],
   "source": [
    "## import thư viện OpenCV trên python\n",
    "#!pip3 install opencv-python\n",
    "\n",
    "### Thử resize một ảnh\n",
    "import cv2\n",
    "resized_img = cv2.resize(X_train[0], dsize=(32,32))\n",
    "print(\"Kích thước ảnh sau resize: \", resized_img.shape)"
   ]
  },
  {
   "cell_type": "code",
   "execution_count": null,
   "metadata": {
    "colab": {
     "base_uri": "https://localhost:8080/",
     "height": 555
    },
    "colab_type": "code",
    "id": "FQNoy_veEBO1",
    "outputId": "0401afc4-2a73-41e9-8f5d-78f782452fa6"
   },
   "outputs": [],
   "source": [
    "## Resize toàn bộ ảnh train tập train và test\n",
    "X_train = np.array([cv2.resize(img, dsize=(32,32)) for img in X_train])\n",
    "X_test = np.array([cv2.resize(img, dsize=(32,32)) for img in X_test])\n",
    "print(\"Kích thước tập sau khi resize: \", X_train.shape, X_test.shape)\n",
    "\n",
    "## In xem ảnh còn ổn không sau khi resize\n",
    "plt.imshow(X_train[0])\n",
    "plt.show()\n",
    "\n",
    "## Reshape ảnh để phù hợp với input của model (thêm một trục)\n",
    "X_train = np.expand_dims(X_train, axis=-1)\n",
    "X_test = np.expand_dims(X_test, axis=-1)\n",
    "print(\"Kích thước tập sau khi reshape: \", X_train.shape, X_test.shape)\n",
    "\n",
    "plt.imshow(X_train[0,:,:,0])\n",
    "plt.show()\n",
    "\n",
    "#Tách một phần tập train thành tập valid\n",
    "from sklearn.model_selection import train_test_split\n",
    "X_train, X_valid, y_train, y_valid = train_test_split(X_train, y_train, test_size=0.1)\n",
    "\n",
    "## Reshape ảnh để phù hợp với input của model (thêm một trục)"
   ]
  },
  {
   "cell_type": "markdown",
   "metadata": {
    "colab_type": "text",
    "id": "klZ7mEYKT-6E"
   },
   "source": [
    "### 1.4 Train"
   ]
  },
  {
   "cell_type": "code",
   "execution_count": null,
   "metadata": {
    "colab": {
     "base_uri": "https://localhost:8080/",
     "height": 493
    },
    "colab_type": "code",
    "id": "OzVdTvPGEBO3",
    "outputId": "6bed32aa-8376-4474-a484-14e1d9d072d8"
   },
   "outputs": [],
   "source": [
    "# Checkpoint Callback\n",
    "mc = keras.callbacks.ModelCheckpoint(filepath=\"mobilenet_mnist.h5\", \n",
    "                                     monitor='val_loss',\n",
    "                                     mode='min', \n",
    "                                     verbose=0, \n",
    "                                     save_best_only=True)\n",
    "\n",
    "## Train  ## Khuyến cáo chạy COLAB (hoặc tương tự)\n",
    "history = model.fit(X_train, y_train,\n",
    "                    batch_size=100,\n",
    "                    epochs=10,\n",
    "                    validation_data=(X_valid, y_valid),\n",
    "                    callbacks=[mc])                    \n",
    "\n",
    "## Load lại model tốt nhất đã lưu\n",
    "print(\"best model: \")\n",
    "model.load_weights(\"mobilenet_mnist.h5\")\n",
    "valid_loss, valid_acc = model.evaluate(X_valid, y_valid)\n",
    "test_loss, test_acc = model.evaluate(X_test, y_test)\n",
    "print(\"Valid: loss {} acc {} -- Test: loss {} valid {}\".format(valid_loss, valid_acc, test_loss, test_acc))"
   ]
  },
  {
   "cell_type": "markdown",
   "metadata": {
    "colab_type": "text",
    "id": "-DJHprqREBPK"
   },
   "source": [
    "## Bài tập\n",
    "\n",
    "Reference: MobileNetV2: Inverted Residuals and Linear Bottlenecks, https://arxiv.org/abs/1801.04381\n",
    "\n",
    "Bài tập là xây dựng mạng MobileNetV2 với những cải tiến dựa trên bottleneck và residual.\n",
    "1. Xây dựng lớp Bottleneck DepthSeparable Convolution with Residuals:\n",
    "```python\n",
    "class BottleneckDepthSeparableConvolutionWithResiduals(keras.layers.Layer):\n",
    "\n",
    "    def __init__(self, n_filters=64, expansion_factor=6, l2_regularizer=0.0, down_sampling=False):\n",
    "        pass\n",
    "```\n",
    "2. Xây dựng mạng MobileNetV2:\n",
    "\n",
    "<img src=\"MobileNETv2.png\" width=\"40%\" height=\"40%\">\n",
    "\n"
   ]
  }
 ],
 "metadata": {
  "accelerator": "GPU",
  "colab": {
   "collapsed_sections": [],
   "name": "Lab05.ipynb",
   "provenance": []
  },
  "kernelspec": {
   "display_name": "Python 3",
   "language": "python",
   "name": "python3"
  },
  "language_info": {
   "codemirror_mode": {
    "name": "ipython",
    "version": 3
   },
   "file_extension": ".py",
   "mimetype": "text/x-python",
   "name": "python",
   "nbconvert_exporter": "python",
   "pygments_lexer": "ipython3",
   "version": "3.7.2"
  }
 },
 "nbformat": 4,
 "nbformat_minor": 2
}
