{
 "cells": [
  {
   "cell_type": "markdown",
   "metadata": {
    "colab_type": "text",
    "id": "Y6DyphAUEBOi"
   },
   "source": [
    "# Lab 03: VGG\n",
    "\n",
    "Trong bài thực hành này:\n",
    "- Cài đặt, train VGG16 với data MNIST\n",
    "- Các kĩ thuật regularization: L2, dropout\n",
    "- Tạo callback của keras để lưu checkpoint\n",
    "\n",
    "Reference:\n",
    "- Simonyan, K., and Zisserman, A. 2014b. Very deep convolutional\n",
    "networks for large-scale image recognition. arXiv\n",
    "preprint arXiv:1409.1556.\n",
    "https://arxiv.org/abs/1409.1556"
   ]
  },
  {
   "cell_type": "markdown",
   "metadata": {
    "colab_type": "text",
    "id": "iWA8vNYyEBOj"
   },
   "source": [
    "## 1. VGG-16 trên MNIST\n",
    "\n",
    "Trong phần này chúng ta sẽ xây dựng và huấn luyện model VGG-16 trên dataset MNIST (ảnh được resize)"
   ]
  },
  {
   "cell_type": "markdown",
   "metadata": {
    "colab_type": "text",
    "id": "Pf0kDsUoEBOk"
   },
   "source": [
    "### 1.1 VGG16 cài sẵn trong Keras"
   ]
  },
  {
   "cell_type": "code",
   "execution_count": null,
   "metadata": {
    "colab": {},
    "colab_type": "code",
    "id": "o7yiMO-bEBOl"
   },
   "outputs": [],
   "source": [
    "#import thư viện cần thiết\n",
    "## thư viện machine learning và hỗ trợ\n",
    "import tensorflow as tf\n",
    "from tensorflow import keras\n",
    "import numpy as np\n",
    "\n",
    "## thư viện để vẽ đồ thị\n",
    "import matplotlib.pyplot as plt\n"
   ]
  },
  {
   "cell_type": "markdown",
   "metadata": {
    "colab_type": "text",
    "id": "VzyiUzBpEBOn"
   },
   "source": [
    "Tự động tạo một model VGG-16 bằng hàm cài sẵn trong keras\n",
    "- include_top: True/False: có thêm 3 lớp fully-conndedted ở cuối model không\n",
    "- weights: None/'imagenet': None: khởi tạo tham số ngẫu nhiên; 'imagenet': load trọng số của model được train với imagenet\n",
    "- input_tensor: truyền lớp Input vào nếu muốn\n",
    "- input_shape: xác định kích thước input\n",
    "- pooling: None/'max'/'avg': chế độ pooling trong các lớp pool\n",
    "- classes: số lớp output"
   ]
  },
  {
   "cell_type": "code",
   "execution_count": null,
   "metadata": {
    "colab": {
     "base_uri": "https://localhost:8080/",
     "height": 1000
    },
    "colab_type": "code",
    "executionInfo": {
     "elapsed": 2989,
     "status": "ok",
     "timestamp": 1569157429705,
     "user": {
      "displayName": "Đinh Viết Cường",
      "photoUrl": "https://lh3.googleusercontent.com/a-/AAuE7mB_NKNR_ZA2EYw6kBi2nHByJQAtreMlk7vNjo8I=s64",
      "userId": "04868867703989860835"
     },
     "user_tz": -420
    },
    "id": "DAbWNcBBEBOo",
    "outputId": "e8234878-f006-4e24-ef6b-eced5f89b9f2"
   },
   "outputs": [],
   "source": [
    "vgg16 = keras.applications.vgg16.VGG16(include_top=True, \n",
    "                                       weights=None, \n",
    "                                       input_tensor=None, \n",
    "                                       input_shape=(32,32,1), \n",
    "                                       pooling='max',\n",
    "                                       classes=10)\n",
    "vgg16.summary()"
   ]
  },
  {
   "cell_type": "markdown",
   "metadata": {
    "colab_type": "text",
    "id": "L2l2tYgIEBOr"
   },
   "source": [
    "### 1.2 Xây dựng VGG bằng thư viện keras.layers\n",
    "\n",
    "<img src=\"NetConfiguration.png\" width=\"40%\" height=\"40%\">\n",
    "\n",
    "Hình trên trích từ bài báo gốc của VGG. Cột D và E chính là cấu trúc model VGG16 và VGG19. \n",
    "- Filter size của tất cả các lớp convolution là 3x3\n",
    "- Số filter của từng block lần lượt là 64, 128, 256, 512, 512\n",
    "- Các hàm kích hoạt đều là ReLU, trừ lớp output dùng hàm kích hoạt softmax\n",
    "- L2 Regularizer (weight decay) các lớp dense: 0.0005\n",
    "- Dropout probability sau các lớp dense: 0.5\n",
    "\n",
    "Giả sử ảnh input của chúng ta có kích thước (32x32x1)\n",
    "\n",
    "Xây dựng các lớp "
   ]
  },
  {
   "cell_type": "code",
   "execution_count": null,
   "metadata": {
    "colab": {
     "base_uri": "https://localhost:8080/",
     "height": 1000
    },
    "colab_type": "code",
    "executionInfo": {
     "elapsed": 1408,
     "status": "ok",
     "timestamp": 1569166035108,
     "user": {
      "displayName": "Đinh Viết Cường",
      "photoUrl": "https://lh3.googleusercontent.com/a-/AAuE7mB_NKNR_ZA2EYw6kBi2nHByJQAtreMlk7vNjo8I=s64",
      "userId": "04868867703989860835"
     },
     "user_tz": -420
    },
    "id": "8c6cqf3MEBOr",
    "outputId": "8250cad8-422d-4376-d6ca-930d8b20beb3"
   },
   "outputs": [],
   "source": [
    "## import l2 regularizer\n",
    "## l2 sẽ được khai báo truyền vào khi khởi tạo lớp\n",
    "from keras.regularizers import l2\n",
    "l2_regularizer_rate = 0.0005\n",
    "\n",
    "## Tạo lớp input kích thước (None, 32, 32, 1)\n",
    "inputs = keras.layers.Input(shape=(32,32,1))\n",
    "\n",
    "### Block 1\n",
    "#### Gồm 2 lớp convolution và 1 lớp maxpoool\n",
    "#### Lớp convolution số filter 64, kernel size 3x3, hàm kích hoạt ReLU\n",
    "conv1_1 = keras.layers.Convolution2D(filters=64,\n",
    "                                     kernel_size=[3,3],\n",
    "                                     strides=[1,1],\n",
    "                                     padding='same',\n",
    "                                     activation=tf.nn.relu)(inputs)\n",
    "conv1_2 = keras.layers.Convolution2D(filters=64,\n",
    "                                     kernel_size=[3,3],\n",
    "                                     strides=[1,1],\n",
    "                                     padding='same',\n",
    "                                     activation=tf.nn.relu)(conv1_1)\n",
    "maxpool1 = keras.layers.MaxPool2D(pool_size=[2,2],\n",
    "                                  strides=[2,2])(conv1_2)\n",
    "\n",
    "### Block 2\n",
    "#### Gồm 2 lớp convolution và 1 lớp maxpoool\n",
    "#### Lớp convolution số filter 128, kernel size 3x3, hàm kích hoạt ReLU\n",
    "conv2_1 = keras.layers.Convolution2D(filters=128,\n",
    "                                     kernel_size=[3,3],\n",
    "                                     strides=[1,1],\n",
    "                                     padding='same',\n",
    "                                     activation=tf.nn.relu)(maxpool1)\n",
    "conv2_2 = keras.layers.Convolution2D(filters=128,\n",
    "                                     kernel_size=[3,3],\n",
    "                                     strides=[1,1],\n",
    "                                     padding='same',\n",
    "                                     activation=tf.nn.relu)(conv2_1)\n",
    "maxpool2 = keras.layers.MaxPool2D(pool_size=[2,2],\n",
    "                                  strides=[2,2])(conv2_2)\n",
    "\n",
    "### Block 3\n",
    "#### Gồm 3 lớp convolution và 1 lớp maxpoool\n",
    "#### Lớp convolution số filter 256, kernel size 3x3, hàm kích hoạt ReLU\n",
    "conv3_1 = keras.layers.Convolution2D(filters=256,\n",
    "                                     kernel_size=[3,3],\n",
    "                                     strides=[1,1],\n",
    "                                     padding='same',\n",
    "                                     activation=tf.nn.relu)(maxpool2)\n",
    "conv3_2 = keras.layers.Convolution2D(filters=256,\n",
    "                                     kernel_size=[3,3],\n",
    "                                     strides=[1,1],\n",
    "                                     padding='same',\n",
    "                                     activation=tf.nn.relu)(conv3_1)\n",
    "conv3_3 = keras.layers.Convolution2D(filters=256,\n",
    "                                     kernel_size=[3,3],\n",
    "                                     strides=[1,1],\n",
    "                                     padding='same',\n",
    "                                     activation=tf.nn.relu)(conv3_2)\n",
    "maxpool3 = keras.layers.MaxPool2D(pool_size=[2,2],\n",
    "                                  strides=[2,2])(conv3_3)\n",
    "\n",
    "### Block 4\n",
    "#### Gồm 3 lớp convolution và 1 lớp maxpoool\n",
    "#### Lớp convolution số filter 512, kernel size 3x3, hàm kích hoạt ReLU\n",
    "conv4_1 = keras.layers.Convolution2D(filters=512,\n",
    "                                     kernel_size=[3,3],\n",
    "                                     strides=[1,1],\n",
    "                                     padding='same',\n",
    "                                     activation=tf.nn.relu)(maxpool3)\n",
    "conv4_2 = keras.layers.Convolution2D(filters=512,\n",
    "                                     kernel_size=[3,3],\n",
    "                                     strides=[1,1],\n",
    "                                     padding='same',\n",
    "                                     activation=tf.nn.relu)(conv4_1)\n",
    "conv4_3 = keras.layers.Convolution2D(filters=512,\n",
    "                                     kernel_size=[3,3],\n",
    "                                     strides=[1,1],\n",
    "                                     padding='same',\n",
    "                                     activation=tf.nn.relu)(conv4_2)\n",
    "maxpool4 = keras.layers.MaxPool2D(pool_size=[2,2],\n",
    "                                  strides=[2,2])(conv4_3)\n",
    "\n",
    "### Block 5\n",
    "#### Gồm 3 lớp convolution và 1 lớp maxpoool\n",
    "#### Lớp convolution số filter 512, kernel size 3x3, hàm kích hoạt ReLU\n",
    "conv5_1 = keras.layers.Convolution2D(filters=512,\n",
    "                                     kernel_size=[3,3],\n",
    "                                     strides=[1,1],\n",
    "                                     padding='same',\n",
    "                                     activation=tf.nn.relu)(maxpool4)\n",
    "conv5_2 = keras.layers.Convolution2D(filters=512,\n",
    "                                     kernel_size=[3,3],\n",
    "                                     strides=[1,1],\n",
    "                                     padding='same',\n",
    "                                     activation=tf.nn.relu)(conv5_1)\n",
    "conv5_3 = keras.layers.Convolution2D(filters=512,\n",
    "                                     kernel_size=[3,3],\n",
    "                                     strides=[1,1],\n",
    "                                     padding='same',\n",
    "                                     activation=tf.nn.relu)(conv5_2)\n",
    "maxpool5 = keras.layers.MaxPool2D(pool_size=[2,2],\n",
    "                                  strides=[2,2])(conv5_3)\n",
    "\n",
    "### Block cuối\n",
    "#### Gồm 2 lớp fully-connected và 1 lớp output (cũng fully-connected)\n",
    "#### Số neurons trong 3 lớp lần lượt là 4096, 4096, 10\n",
    "flatten6 = keras.layers.Flatten()(maxpool5)\n",
    "dense6_1 = keras.layers.Dense(units=4096, \n",
    "                              activation='relu',\n",
    "                              kernel_regularizer=l2(l2_regularizer_rate))(flatten6)\n",
    "dropout6_1 = keras.layers.Dropout(rate=0.5)(dense6_1)  ## Lớp Dropout (chỉ chạy khi train), rate: xác suất bị drop\n",
    "\n",
    "dense6_2 = keras.layers.Dense(units=4096, \n",
    "                              activation='relu',\n",
    "                              kernel_regularizer=l2(l2_regularizer_rate))(dropout6_1)\n",
    "dropout6_2 = keras.layers.Dropout(rate=0.5)(dense6_2)  ## Lớp Dropout (chỉ chạy khi train), rate: xác suất bị drop\n",
    "\n",
    "softmax = keras.layers.Dense(units=10, \n",
    "                             activation='softmax')(dropout6_2)\n",
    "\n",
    "\n",
    "## Compile model\n",
    "model = keras.models.Model(inputs=inputs, outputs=softmax)\n",
    "model.compile(optimizer=keras.optimizers.Adam(learning_rate=0.0001),    ##tự khai báo Optimizer với learning rate 10^-4\n",
    "             loss=tf.keras.losses.sparse_categorical_crossentropy,\n",
    "             metrics=[\"accuracy\"])\n",
    "    \n",
    "\n",
    "## In toàn bộ cấu trúc của model\n",
    "print(\"Cấu trúc của model: \")\n",
    "model.summary()\n",
    "    \n"
   ]
  },
  {
   "cell_type": "markdown",
   "metadata": {
    "colab_type": "text",
    "id": "8hnPV9b7EBOu"
   },
   "source": [
    "### 1.3 Resize MNIST"
   ]
  },
  {
   "cell_type": "code",
   "execution_count": null,
   "metadata": {
    "colab": {
     "base_uri": "https://localhost:8080/",
     "height": 35
    },
    "colab_type": "code",
    "executionInfo": {
     "elapsed": 1374,
     "status": "ok",
     "timestamp": 1569163532498,
     "user": {
      "displayName": "Đinh Viết Cường",
      "photoUrl": "https://lh3.googleusercontent.com/a-/AAuE7mB_NKNR_ZA2EYw6kBi2nHByJQAtreMlk7vNjo8I=s64",
      "userId": "04868867703989860835"
     },
     "user_tz": -420
    },
    "id": "ZzEiSsxeEBOv",
    "outputId": "b64561bd-a963-4217-f600-523062fc6426"
   },
   "outputs": [],
   "source": [
    "\n",
    "# Tải dataset MNIST từ tensorflow\n",
    "## MNIST là bài toán dự đoán một ảnh thể hiện ký tự số nào\n",
    "\n",
    "## tải MNIST dataset từ keras\n",
    "(X_train, y_train), (X_test, y_test) = keras.datasets.mnist.load_data()\n",
    "##resacle ảnh thành ảnh thực trong đoạn [0,1]\n",
    "X_train, X_test = X_train/255.0, X_test/255.0\n",
    "\n",
    "##in dataset\n",
    "print(X_train.shape, y_train.shape, X_test.shape, y_test.shape)\n",
    "\n"
   ]
  },
  {
   "cell_type": "markdown",
   "metadata": {
    "colab_type": "text",
    "id": "4LI5lEktEBOy"
   },
   "source": [
    "Do VGG-16 yêu cầu ảnh kích thước tối thiểu 32x32. Chúng ta resize ảnh thành 32x32 để cho vào VGG"
   ]
  },
  {
   "cell_type": "code",
   "execution_count": null,
   "metadata": {
    "colab": {
     "base_uri": "https://localhost:8080/",
     "height": 35
    },
    "colab_type": "code",
    "executionInfo": {
     "elapsed": 1409,
     "status": "ok",
     "timestamp": 1569163533749,
     "user": {
      "displayName": "Đinh Viết Cường",
      "photoUrl": "https://lh3.googleusercontent.com/a-/AAuE7mB_NKNR_ZA2EYw6kBi2nHByJQAtreMlk7vNjo8I=s64",
      "userId": "04868867703989860835"
     },
     "user_tz": -420
    },
    "id": "rbLofc7iEBOz",
    "outputId": "975c9701-f86f-48b0-8180-2e9bdbbd5e44"
   },
   "outputs": [],
   "source": [
    "## import thư viện OpenCV trên python\n",
    "#!pip3 install opencv-python\n",
    "\n",
    "### Thử resize một ảnh\n",
    "import cv2\n",
    "resized_img = cv2.resize(X_train[0], dsize=(32,32))\n",
    "print(\"Kích thước ảnh sau resize: \", resized_img.shape)"
   ]
  },
  {
   "cell_type": "code",
   "execution_count": null,
   "metadata": {
    "colab": {
     "base_uri": "https://localhost:8080/",
     "height": 556
    },
    "colab_type": "code",
    "executionInfo": {
     "elapsed": 2579,
     "status": "ok",
     "timestamp": 1569163535614,
     "user": {
      "displayName": "Đinh Viết Cường",
      "photoUrl": "https://lh3.googleusercontent.com/a-/AAuE7mB_NKNR_ZA2EYw6kBi2nHByJQAtreMlk7vNjo8I=s64",
      "userId": "04868867703989860835"
     },
     "user_tz": -420
    },
    "id": "FQNoy_veEBO1",
    "outputId": "0db05837-2281-4828-9de7-95809656eaef"
   },
   "outputs": [],
   "source": [
    "## Resize toàn bộ ảnh train tập train và test\n",
    "X_train = np.array([cv2.resize(img, dsize=(32,32)) for img in X_train])\n",
    "X_test = np.array([cv2.resize(img, dsize=(32,32)) for img in X_test])\n",
    "print(\"Kích thước tập sau khi resize: \", X_train.shape, X_test.shape)\n",
    "\n",
    "## In xem ảnh còn ổn không sau khi resize\n",
    "plt.imshow(X_train[0])\n",
    "plt.show()\n",
    "\n",
    "## Reshape ảnh để phù hợp với input của model (thêm một trục)\n",
    "X_train = np.expand_dims(X_train, axis=-1)\n",
    "X_test = np.expand_dims(X_test, axis=-1)\n",
    "print(\"Kích thước tập sau khi reshape: \", X_train.shape, X_test.shape)\n",
    "\n",
    "plt.imshow(X_train[0,:,:,0])\n",
    "plt.show()\n",
    "\n",
    "#Tách một phần tập train thành tập valid\n",
    "from sklearn.model_selection import train_test_split\n",
    "X_train, X_valid, y_train, y_valid = train_test_split(X_train, y_train, test_size=0.1)\n",
    "\n",
    "## Reshape ảnh để phù hợp với input của model (thêm một trục)"
   ]
  },
  {
   "cell_type": "markdown",
   "metadata": {},
   "source": [
    "### 1.4 Train"
   ]
  },
  {
   "cell_type": "code",
   "execution_count": null,
   "metadata": {
    "colab": {
     "base_uri": "https://localhost:8080/",
     "height": 1000
    },
    "colab_type": "code",
    "executionInfo": {
     "elapsed": 1351723,
     "status": "ok",
     "timestamp": 1569167396186,
     "user": {
      "displayName": "Đinh Viết Cường",
      "photoUrl": "https://lh3.googleusercontent.com/a-/AAuE7mB_NKNR_ZA2EYw6kBi2nHByJQAtreMlk7vNjo8I=s64",
      "userId": "04868867703989860835"
     },
     "user_tz": -420
    },
    "id": "OzVdTvPGEBO3",
    "outputId": "b1d95036-d2ae-419d-8313-37849df8793f"
   },
   "outputs": [],
   "source": [
    "\n",
    "### Tạo một callback ModelCheckpoint: callback này sẽ lưu model mỗi khi tìm được một model tốt hơn\n",
    "#### filepath: đường dẫn file muốn lưu\n",
    "#### monitor: đại lượng quyết định xem model có \"tốt hơn\" hay không\n",
    "#### mode='auto'/'max'/'min': đại lượng monitor lớn hay nhỏ là tốt hơn\n",
    "#### verbose: có thông báo mỗi lần lưu ko\n",
    "#### save_best_only: chỉ lưu model tốt nhất\n",
    "mc = keras.callbacks.ModelCheckpoint(filepath=\"vgg16_mnist.h5\", \n",
    "                                     monitor='val_loss',\n",
    "                                     mode='min', \n",
    "                                     verbose=0, \n",
    "                                     save_best_only=True)\n",
    "\n",
    "## Train  ## Khuyến cáo chạy COLAB (hoặc tương tự)\n",
    "history = model.fit(X_train, y_train,\n",
    "                    batch_size=100,\n",
    "                    epochs=10,\n",
    "                    validation_data=(X_valid, y_valid),\n",
    "                    callbacks=[mc])                     ##sử dụng callback ModelCheckpoint trong quá trình train\n",
    "\n",
    "\n",
    "## Đánh giá model trên tập test\n",
    "valid_loss, valid_acc = model.evaluate(X_valid, y_valid)\n",
    "test_loss, test_acc = model.evaluate(X_test, y_test)\n",
    "print(\"Valid: loss {} acc {} -- Test: loss {} valid {}\".format(valid_loss, valid_acc, test_loss, test_acc))\n",
    "\n",
    "## Load lại model tốt nhất đã lưu\n",
    "print(\"best model: \")\n",
    "model.load_weights(\"vgg16_mnist.h5\")\n",
    "valid_loss, valid_acc = model.evaluate(X_valid, y_valid)\n",
    "test_loss, test_acc = model.evaluate(X_test, y_test)\n",
    "print(\"Valid: loss {} acc {} -- Test: loss {} valid {}\".format(valid_loss, valid_acc, test_loss, test_acc))"
   ]
  },
  {
   "cell_type": "markdown",
   "metadata": {
    "colab_type": "text",
    "id": "-DJHprqREBPK"
   },
   "source": [
    "## Bài tập\n",
    "\n",
    "1. Xây dựng và huấn luyện VGG19 với MNIST bằng thư viện keras.layers (viết gọn xíu!).\n",
    "2. Chỉnh các tham số (lrn_rate, l2 weight decay, epochs, batch_size, ...) để model đạt accuracy 0.994 trên tập valid.\n"
   ]
  },
  {
   "cell_type": "code",
   "execution_count": null,
   "metadata": {
    "colab": {},
    "colab_type": "code",
    "id": "FXOrhZHztGNR"
   },
   "outputs": [],
   "source": []
  }
 ],
 "metadata": {
  "accelerator": "GPU",
  "colab": {
   "name": "Lab03.ipynb",
   "provenance": []
  },
  "kernelspec": {
   "display_name": "Python 3",
   "language": "python",
   "name": "python3"
  },
  "language_info": {
   "codemirror_mode": {
    "name": "ipython",
    "version": 3
   },
   "file_extension": ".py",
   "mimetype": "text/x-python",
   "name": "python",
   "nbconvert_exporter": "python",
   "pygments_lexer": "ipython3",
   "version": "3.7.2"
  }
 },
 "nbformat": 4,
 "nbformat_minor": 2
}
