{
 "cells": [
  {
   "cell_type": "markdown",
   "metadata": {
    "colab_type": "text",
    "id": "Y6DyphAUEBOi"
   },
   "source": [
    "# Lab 07: Generative Adversarial Networks (GAN)\n",
    "Trong bài thực hành này:\n",
    "- Xậy dựng và huấn luyện một hệ GAN trên tập data MNIST\n",
    "\n",
    "Reference:\n",
    "- Generative Adversarial Networks (GAN), https://arxiv.org/abs/1406.2661\n",
    "- Deep Convolutional GAN (DCGAN), https://arxiv.org/pdf/1511.06434"
   ]
  },
  {
   "cell_type": "markdown",
   "metadata": {
    "colab_type": "text",
    "id": "Tej9TuKES4xt"
   },
   "source": [
    "## Xây dựng cấu trúc discriminator và generator"
   ]
  },
  {
   "cell_type": "code",
   "execution_count": null,
   "metadata": {
    "colab": {
     "base_uri": "https://localhost:8080/",
     "height": 80
    },
    "colab_type": "code",
    "id": "QliaDxSXFTGj",
    "outputId": "74313c1d-bc7f-4f21-bf69-5b48e28715ba"
   },
   "outputs": [],
   "source": [
    "## import các module cần thiết\n",
    "import tensorflow as tf\n",
    "from tensorflow.keras.layers import Convolution2D, Dense, Flatten, Input, Reshape, Dropout, ReLU, Conv2DTranspose, BatchNormalization, LeakyReLU\n",
    "from tensorflow.keras.models import Model\n",
    "import tensorflow.keras.backend as K\n",
    "from tensorflow.keras import layers\n",
    "\n",
    "\n",
    "## Xây dựng cấu trúc cho discriminator\n",
    "def get_discriminator():\n",
    "    \"\"\"\n",
    "    Input: ảnh (28, 28), các phần tử trong ảnh thuộc  [-1,1]\n",
    "    Output: số thực trong đoạn [0,1], càng gần 1 thì ảnh input càng là ảnh thật không phải do generator tạo ra\n",
    "    \"\"\"\n",
    "    inputs = Input(shape=(28,28))\n",
    "    xx = Reshape((28,28,1))(inputs)\n",
    "    xx = Convolution2D(filters=64,\n",
    "                       kernel_size=[5,5],\n",
    "                       strides=[2,2],\n",
    "                       padding='same')(xx)\n",
    "    xx = LeakyReLU(0.2)(xx)\n",
    "\n",
    "    xx = Convolution2D(filters=128,\n",
    "                       kernel_size=[5,5],\n",
    "                       strides=[2,2],\n",
    "                       padding='same')(xx)\n",
    "    xx = LeakyReLU(0.2)(xx)\n",
    "\n",
    "    xx = Flatten()(xx)\n",
    "    outputs = Dense(units=1, activation='sigmoid')(xx)\n",
    "\n",
    "    model = Model(inputs=inputs, outputs=outputs)\n",
    "\n",
    "    return model\n",
    "\n",
    "## Xây dựng cấu trúc cho generator\n",
    "def get_generator():\n",
    "    \"\"\"\n",
    "    Input: vector (100,) \n",
    "    Output: ảnh (28,28) được tạo từ vector input\n",
    "    \"\"\"\n",
    "    inputs = Input(shape=(100,))\n",
    "    xx = Dense(units=7*7*256,\n",
    "               use_bias=False)(inputs)\n",
    "    xx = Reshape((7,7,256))(xx)\n",
    "    xx = BatchNormalization()(xx)\n",
    "    xx = LeakyReLU(0.2)(xx)\n",
    "    \n",
    "    xx = Conv2DTranspose(filters=128,\n",
    "                         kernel_size=[5,5],\n",
    "                         strides=[1,1],\n",
    "                         padding='same',\n",
    "                         use_bias=False)(xx)\n",
    "    xx = BatchNormalization()(xx)\n",
    "    xx = LeakyReLU(0.2)(xx)\n",
    "\n",
    "    xx = Conv2DTranspose(filters=64,\n",
    "                         kernel_size=[5,5],\n",
    "                         strides=[2,2],\n",
    "                         padding='same',\n",
    "                         use_bias=False)(xx)\n",
    "    xx = BatchNormalization()(xx)\n",
    "    xx = LeakyReLU(0.2)(xx)\n",
    "\n",
    "    xx = Conv2DTranspose(filters=1,\n",
    "                         kernel_size=[5,5],\n",
    "                         strides=[2,2],\n",
    "                         padding='same',\n",
    "                         use_bias=False,\n",
    "                         activation='tanh')(xx)   ## hàm kích hoạt lớp cuối cùng là tanh, giá trị điểm ảnh thuộc [-1, 1]\n",
    "\n",
    "    outputs=Reshape((28,28))(xx)\n",
    "\n",
    "    model = Model(inputs=inputs, outputs=outputs)\n",
    "\n",
    "    return model\n"
   ]
  },
  {
   "cell_type": "markdown",
   "metadata": {
    "colab_type": "text",
    "id": "gMi9L6llTEiU"
   },
   "source": [
    "## Thiết lập quá trình huấn luyện GAN"
   ]
  },
  {
   "cell_type": "code",
   "execution_count": null,
   "metadata": {
    "colab": {},
    "colab_type": "code",
    "id": "RBm8jDkfuBrC"
   },
   "outputs": [],
   "source": [
    "## Thiết lập quá trình training cho generator\n",
    "def get_generator_training(discriminator, generator):\n",
    "    \"\"\"\n",
    "    Input: discriminator, generator\n",
    "    Output: một model, thiết lập sẵn quá trình huấn luyện cho generator\n",
    "    \"\"\"\n",
    "\n",
    "    # khi huấn luyện generator, vector được đưa vào generator tạo ra ảnh, ảnh đó sẽ tiếp tục được đưa vào discriminator\n",
    "    inputs = generator.inputs                       # input của quá trình là input của generator\n",
    "    outputs = discriminator(generator.outputs)      # output của generator được cho vô discriminator\n",
    "    model = Model(inputs=inputs, outputs=outputs)   \n",
    "\n",
    "    # discriminator được đóng băng trong quá trình huấn luyện generator\n",
    "    generator.trainable = True\n",
    "    discriminator.trainable = False\n",
    "\n",
    "    # compile\n",
    "    model.compile(optimizer=tf.keras.optimizers.Adam(2e-4, beta_1=0.5),\n",
    "                  loss=tf.keras.losses.binary_crossentropy,\n",
    "                  metrics=['accuracy'])\n",
    "    \n",
    "    return model\n",
    "\n",
    "## Thiết lập quá trình train cho discriminator\n",
    "def get_discriminator_training(discriminator):\n",
    "    \"\"\"\n",
    "    Input: discriminator\n",
    "    Output: một model, thiết lập sẵn quá trình huấn luyện cho discriminator\n",
    "    \"\"\"\n",
    "\n",
    "    ## model này có input y chang discriminator\n",
    "    inputs = discriminator.inputs\n",
    "    outputs = discriminator.outputs\n",
    "    model = Model(inputs=inputs, outputs=outputs)  \n",
    "\n",
    "    ## discriminator được huấn luyện\n",
    "    discriminator.trainable = True\n",
    "\n",
    "    ## compile\n",
    "    model.compile(optimizer=tf.keras.optimizers.Adam(2e-4, beta_1=0.5),\n",
    "                  loss=tf.keras.losses.binary_crossentropy,\n",
    "                  metrics=['accuracy'])\n",
    "    return model\n"
   ]
  },
  {
   "cell_type": "markdown",
   "metadata": {
    "colab_type": "text",
    "id": "cELAyz6ATU6I"
   },
   "source": [
    "## Huấn luyện GAN"
   ]
  },
  {
   "cell_type": "code",
   "execution_count": null,
   "metadata": {
    "colab": {},
    "colab_type": "code",
    "id": "MfVrmrmqlGeA"
   },
   "outputs": [],
   "source": [
    "## tải MNIST dataset từ keras\n",
    "(X_train, y_train), (X_test, y_test) = tf.keras.datasets.mnist.load_data()\n",
    "##resacle ảnh thành ảnh thực trong đoạn [0,1]\n",
    "X_train, X_test = (X_train-127.5)/127.5, (X_test-127.5)/127.5"
   ]
  },
  {
   "cell_type": "code",
   "execution_count": null,
   "metadata": {
    "colab": {},
    "colab_type": "code",
    "id": "uHsoDdclWPDx"
   },
   "outputs": [],
   "source": [
    "import matplotlib.pyplot as plt\n",
    "import numpy as np\n",
    "\n",
    "## một hàm tạo ảnh ngẫu nhiên rồi vẽ ra\n",
    "def generate_samples(generator, seed=None):\n",
    "    if seed is None:\n",
    "        seed = np.random.normal(0.0, 1.0, size=[16,100])    ## tạo 16 vector ngẫu nhiên\n",
    "    generated_images = generator.predict(seed)   ## tạo ảnh\n",
    "\n",
    "    ## vẽ từng ảnh được tạo\n",
    "    for i, image in enumerate(generated_images):\n",
    "        plt.subplot(4,4,i+1)\n",
    "        plt.imshow(image, cmap='gray', vmin=-1.0, vmax=1.0)\n",
    "        plt.axis('off')\n",
    "    plt.show()"
   ]
  },
  {
   "cell_type": "code",
   "execution_count": null,
   "metadata": {
    "colab": {
     "base_uri": "https://localhost:8080/",
     "height": 139
    },
    "colab_type": "code",
    "id": "j7o0EQje_syN",
    "outputId": "8467c5e9-bbfe-4694-86d2-47b5f1790f7f"
   },
   "outputs": [],
   "source": [
    "## tạo các object\n",
    "generator = get_generator()\n",
    "discriminator = get_discriminator()\n",
    "generator_train = get_generator_training(discriminator, generator)\n",
    "discriminator_train = get_discriminator_training(discriminator)\n",
    "\n",
    "generator.summary()\n",
    "discriminator.summary()\n"
   ]
  },
  {
   "cell_type": "code",
   "execution_count": null,
   "metadata": {
    "colab": {
     "base_uri": "https://localhost:8080/",
     "height": 1000
    },
    "colab_type": "code",
    "id": "nMr_CqGD8zfo",
    "outputId": "845909f1-0472-4e6e-c7a3-da4532710455"
   },
   "outputs": [],
   "source": [
    "seed = np.random.normal(0.0, 1.0, size=[16,100])     ## seed được dùng để tạo ảnh vẽ ra trong quá trình huấn luyện\n",
    "generate_samples(generator, seed)                   ## thử tạo ảnh khi generator mới tạo"
   ]
  },
  {
   "cell_type": "code",
   "execution_count": null,
   "metadata": {
    "colab": {
     "base_uri": "https://localhost:8080/",
     "height": 1000
    },
    "colab_type": "code",
    "id": "jgmYGBRRqXuL",
    "outputId": "1079555a-439b-4fb7-ef21-b57499d01268"
   },
   "outputs": [],
   "source": [
    "### Huấn luyện\n",
    "batch_size = 200\n",
    "\n",
    "## thiết lập các labels sẵn\n",
    "y_ones = np.ones((batch_size,))\n",
    "y_zeros = np.zeros((batch_size,))\n",
    "y_train_batch = np.concatenate([0.9*y_ones, y_zeros], axis=0)\n",
    "y_eval_zeros = np.zeros((10000,))\n",
    "\n",
    "for epoch in range(100):\n",
    "    np.random.shuffle(X_train)    ## xáo vi vị trí các ảnh trong tập train\n",
    "\n",
    "    for i_batch in range(0,60000,batch_size):\n",
    "        ## huấn luyện discriminator\n",
    "\n",
    "        X_real_batch = X_train[i_batch:i_batch+batch_size]  ## lấy một batch ảnh thật\n",
    "\n",
    "        random_noise_batch = np.random.normal(0.0, 1.0, size=[batch_size,100])  ## tạo một batch vector ngẫu nhiên\n",
    "        X_fake_batch = generator.predict(random_noise_batch)                    ## tạo một batch các ảnh giả từ generator\n",
    "\n",
    "        X_train_batch = np.concatenate([X_real_batch, X_fake_batch], axis=0)    ## nối ảnh thật và ảnh giả\n",
    "        \n",
    "        discriminator_train.train_on_batch(X_train_batch, y_train_batch)        ## huấn luyện discriminator với label của ảnh thật là 1.0, label của ảnh giả là 0.0\n",
    "\n",
    "        ## huấn luyện generator\n",
    "        random_noise_batch = np.random.normal(0.0, 1.0, size=[batch_size,100])  ## tạo một batch vector ngẫu nhiên\n",
    "        generator_train.train_on_batch([random_noise_batch], y_ones)            ## huấn luyện generator, với label toàn là 1.0 (để lừa discriminator rằng ảnh giả này là ảnh thật)\n",
    "    \n",
    "    ##xem accuracy của discriminator với ảnh giả là bao nhiêu\n",
    "    random_noise = np.random.normal(0.0, 1.0, size=[10000,100])\n",
    "    _, train_acc = generator_train.evaluate([random_noise], y_eval_zeros, verbose=0)\n",
    "\n",
    "    print(\"Epoch {} - Discriminator accuracy on fake images {}\".format(epoch+1, train_acc ))\n",
    "\n",
    "    ## tạo thử ảnh từ seed xem nó có đẹp hơn không\n",
    "    if epoch % 1 == 0:\n",
    "        print(\"Generated images after epoch {}\".format(epoch))\n",
    "        generate_samples(generator, seed)\n"
   ]
  },
  {
   "cell_type": "markdown",
   "metadata": {
    "colab_type": "text",
    "id": "uFwb_0BVTgKn"
   },
   "source": [
    "## Bài tập\n",
    "\n",
    "- Đọc bài Conditional Generative Adversarial Nets, https://arxiv.org/abs/1411.1784\n",
    "- Xây dựng và huấn luyện một hệ Conditional DCGAN\n",
    "- Tạo 200 ảnh từ generator bằng code phía dưới\n",
    "\n",
    "```python\n",
    "seed = ##???\n",
    "generated_images = generator.predict(seed)\n",
    "\n",
    "plt.figure(figsize=(20,10))\n",
    "\n",
    "for i, image in enumerate(generated_images):\n",
    "    plt.subplot(10,20,i+1)\n",
    "    plt.imshow(image, cmap='gray', vmin=-1.0, vmax=1.0)\n",
    "    plt.axis('off')\n",
    "plt.show()\n",
    "```\n",
    "\n",
    "\n",
    "<img src=\"generated_images_ConditionalDCGAN.png\" width=\"60%\" height=\"60%\">\n",
    "\n"
   ]
  },
  {
   "cell_type": "code",
   "execution_count": null,
   "metadata": {
    "colab": {},
    "colab_type": "code",
    "id": "O69MR5XfLewD"
   },
   "outputs": [],
   "source": []
  }
 ],
 "metadata": {
  "accelerator": "GPU",
  "colab": {
   "collapsed_sections": [],
   "name": "Lab07v2_DCGAN.ipynb",
   "provenance": []
  },
  "kernelspec": {
   "display_name": "Python 3",
   "language": "python",
   "name": "python3"
  },
  "language_info": {
   "codemirror_mode": {
    "name": "ipython",
    "version": 3
   },
   "file_extension": ".py",
   "mimetype": "text/x-python",
   "name": "python",
   "nbconvert_exporter": "python",
   "pygments_lexer": "ipython3",
   "version": "3.7.2"
  }
 },
 "nbformat": 4,
 "nbformat_minor": 2
}
