{
 "cells": [
  {
   "cell_type": "markdown",
   "metadata": {},
   "source": [
    "# Lab 01: Getting Started\n",
    "\n",
    "Trong bài thực hành này:\n",
    "- Làm quen với Keras trong Tensorflow\n",
    "- Thiết kế một mạng Convolutional Neural Network đơn giản với dataset MNIST"
   ]
  },
  {
   "cell_type": "markdown",
   "metadata": {},
   "source": [
    "## Import thư viện và đọc data"
   ]
  },
  {
   "cell_type": "code",
   "execution_count": 1,
   "metadata": {},
   "outputs": [],
   "source": [
    "#import thư viện cần thiết\n",
    "## thư viện machine learning và hỗ trợ\n",
    "import tensorflow as tf\n",
    "from tensorflow import keras\n",
    "import numpy as np\n",
    "\n",
    "## thư viện để vẽ đồ thị\n",
    "import matplotlib.pyplot as plt\n"
   ]
  },
  {
   "cell_type": "code",
   "execution_count": 2,
   "metadata": {},
   "outputs": [
    {
     "name": "stdout",
     "output_type": "stream",
     "text": [
      "(60000, 28, 28) (60000,) (10000, 28, 28) (10000,)\n",
      "Có 60000 ảnh dùng để train và valid, 10000 ảnh dùng để test\n",
      "Mỗi ảnh có một kênh màu, kích thước 28x28\n",
      "\n",
      "Ảnh đầu tiên của tập train\n",
      "Label đầu tiên của tập train:  5\n"
     ]
    },
    {
     "data": {
      "image/png": "[encoded data removed]",
      "text/plain": [
       "<Figure size 432x288 with 1 Axes>"
      ]
     },
     "metadata": {
      "needs_background": "light"
     },
     "output_type": "display_data"
    }
   ],
   "source": [
    "# Tải dataset MNIST từ tensorflow\n",
    "## MNIST là bài toán dự đoán một ảnh thể hiện ký tự số nào\n",
    "\n",
    "## tải MNIST dataset từ keras\n",
    "(X_train, y_train), (X_test, y_test) = keras.datasets.mnist.load_data()\n",
    "##resacle ảnh thành ảnh thực trong đoạn [0,1]\n",
    "X_train, X_test = X_train/255.0, X_test/255.0\n",
    "\n",
    "##in dataset\n",
    "print(X_train.shape, y_train.shape, X_test.shape, y_test.shape)\n",
    "print(\"Có 60000 ảnh dùng để train và valid, 10000 ảnh dùng để test\")\n",
    "print(\"Mỗi ảnh có một kênh màu, kích thước 28x28\")\n",
    "print()\n",
    "\n",
    "## in thử ảnh một ảnh\n",
    "print(\"Ảnh đầu tiên của tập train\")\n",
    "print(\"Label đầu tiên của tập train: \", y_train[0])\n",
    "plt.imshow(X_train[0], cmap='gray')\n",
    "plt.show()\n",
    "\n",
    "#Tách một phần tập train thành tập valid\n",
    "from sklearn.model_selection import train_test_split\n",
    "X_train, X_valid, y_train, y_valid = train_test_split(X_train, y_train, test_size=0.1)"
   ]
  },
  {
   "cell_type": "markdown",
   "metadata": {},
   "source": [
    "## Sử dụng layer có sẵn của Keras\n",
    "### Keras layer\n",
    "\n",
    "Để tạo một keras layer, đầu tiên cần khởi tạo một layer, và sau đó xác định input cho layer đó\n",
    "\n",
    "ví dụ để tạo một fully connected layer:\n",
    "\n",
    "Khởi tạo layer: \n",
    "```\n",
    "dense_layer = Dense(units=10)\n",
    "```\n",
    "Xác định input layer: \n",
    "```\n",
    "dense_layer_output = dense_layer(input_layer)\n",
    "```\n",
    "với input_layer cũng là một layer của keras\n",
    "\n",
    "Người ta thường viết gọn thành:\n",
    "```\n",
    "dense_layer_output = Dense(units=10)(input_layer)\n",
    "```"
   ]
  },
  {
   "cell_type": "markdown",
   "metadata": {},
   "source": [
    "## Xây dựng model"
   ]
  },
  {
   "cell_type": "code",
   "execution_count": 3,
   "metadata": {},
   "outputs": [
    {
     "name": "stdout",
     "output_type": "stream",
     "text": [
      "Kích thước input: (?, 28, 28), dấu '?' tượng trưng cho số lượng ảnh một batch không xác định trước\n",
      "Kích thước sau reshape: (?, 28, 28, 1)\n",
      "WARNING:tensorflow:From c:\\users\\user\\appdata\\local\\programs\\python\\python37\\lib\\site-packages\\tensorflow\\python\\ops\\resource_variable_ops.py:435: colocate_with (from tensorflow.python.framework.ops) is deprecated and will be removed in a future version.\n",
      "Instructions for updating:\n",
      "Colocations handled automatically by placer.\n",
      "Kích thước conv: (?, 28, 28, 20), chiều cuối cùng chính là số filter\n",
      "Kích thước sau maxpool: (?, 14, 14, 20)\n",
      "Kích thước flatten: (?, 3920)\n",
      "Cấu trúc của model: \n",
      "_________________________________________________________________\n",
      "Layer (type)                 Output Shape              Param #   \n",
      "=================================================================\n",
      "input_1 (InputLayer)         (None, 28, 28)            0         \n",
      "_________________________________________________________________\n",
      "reshape (Reshape)            (None, 28, 28, 1)         0         \n",
      "_________________________________________________________________\n",
      "conv2d (Conv2D)              (None, 28, 28, 20)        520       \n",
      "_________________________________________________________________\n",
      "max_pooling2d (MaxPooling2D) (None, 14, 14, 20)        0         \n",
      "_________________________________________________________________\n",
      "flatten (Flatten)            (None, 3920)              0         \n",
      "_________________________________________________________________\n",
      "dense (Dense)                (None, 10)                39210     \n",
      "=================================================================\n",
      "Total params: 39,730\n",
      "Trainable params: 39,730\n",
      "Non-trainable params: 0\n",
      "_________________________________________________________________\n"
     ]
    }
   ],
   "source": [
    "\n",
    "## Tạo layer input, mỗi data point có kích thước (28,28)\n",
    "inputs = keras.layers.Input(shape=(28,28))\n",
    "print(\"Kích thước input: {}, dấu '?' tượng trưng cho số lượng ảnh một batch không xác định trước\".format(inputs.shape))\n",
    "\n",
    "## Reshape input\n",
    "## do input vào lớp convolutional layer cần có 4 chiều, chiều cuối là số kênh,\n",
    "## ảnh mnist là ảnh xám nên chỉ có một kênh\n",
    "inputs_reshape = keras.layers.Reshape((28,28,1))(inputs)\n",
    "print(\"Kích thước sau reshape: {}\".format(inputs_reshape.shape))\n",
    "\n",
    "## Tạo Convolutional Layer\n",
    "### fileters: số lượng filter\n",
    "### kernel_size: kích thước của filter\n",
    "### strides: bước dịch của filter khi tính convolution\n",
    "### padding: thêm số 0 hoặc không tính khi tính filter ở biên\n",
    "### activation: hàm kích hoạt của lớp convolution\n",
    "conv = keras.layers.Convolution2D(filters=20,\n",
    "                                 kernel_size=[5,5],\n",
    "                                 strides=[1,1],\n",
    "                                 padding='same',\n",
    "                                 activation=tf.nn.relu)(inputs_reshape)\n",
    "print(\"Kích thước conv: {}, chiều cuối cùng chính là số filter\".format(conv.shape))\n",
    "\n",
    "## Maxpooling\n",
    "## pool_size: kích thước pool để lấy max\n",
    "## strides: bước dịch của pool \n",
    "maxpool = keras.layers.MaxPool2D(pool_size=[2,2],\n",
    "                                strides=[2,2])(conv)\n",
    "print(\"Kích thước sau maxpool: {}\".format(maxpool.shape))\n",
    "\n",
    "## Flatten lớp conv trước khi cho vào lớp dense, vì lớp dense yêu cầu input chỉ là vector\n",
    "flatten = keras.layers.Flatten()(maxpool)\n",
    "print(\"Kích thước flatten: {}\".format(flatten.shape))\n",
    "\n",
    "## Lớp Fully conntected với hàm kích hoạt softmax\n",
    "softmax = keras.layers.Dense(units=10, activation='softmax')(flatten)\n",
    "\n",
    "\n",
    "## Tạo model, với input là lớp inputs, outputs là lớp softmax\n",
    "model = keras.models.Model(inputs=inputs, outputs=softmax)\n",
    "\n",
    "## Compile model, \n",
    "### optimizer là adam \n",
    "### loss function là sparse_categorical_crossentropy\n",
    "### metrics: để theo dõi các đánh giá trong quá trình huấn luyện\n",
    "model.compile(optimizer='adam',\n",
    "             loss=tf.keras.losses.sparse_categorical_crossentropy,\n",
    "             metrics=[\"accuracy\"])\n",
    "    \n",
    "\n",
    "## In toàn bộ cấu trúc của model\n",
    "print(\"Cấu trúc của model: \")\n",
    "model.summary()\n",
    "    "
   ]
  },
  {
   "cell_type": "markdown",
   "metadata": {},
   "source": [
    "## Train và đánh giá model"
   ]
  },
  {
   "cell_type": "code",
   "execution_count": 4,
   "metadata": {},
   "outputs": [
    {
     "name": "stdout",
     "output_type": "stream",
     "text": [
      "Train on 54000 samples, validate on 6000 samples\n",
      "Epoch 1/5\n",
      "54000/54000 [==============================] - 27s 498us/sample - loss: 0.2452 - acc: 0.9312 - val_loss: 0.1032 - val_acc: 0.9752\n",
      "Epoch 2/5\n",
      "54000/54000 [==============================] - 28s 524us/sample - loss: 0.0806 - acc: 0.9767 - val_loss: 0.0650 - val_acc: 0.9822\n",
      "Epoch 3/5\n",
      "54000/54000 [==============================] - 29s 535us/sample - loss: 0.0577 - acc: 0.9827 - val_loss: 0.0542 - val_acc: 0.9838\n",
      "Epoch 4/5\n",
      "54000/54000 [==============================] - 18s 337us/sample - loss: 0.0480 - acc: 0.9856 - val_loss: 0.0611 - val_acc: 0.9822\n",
      "Epoch 5/5\n",
      "54000/54000 [==============================] - 17s 314us/sample - loss: 0.0407 - acc: 0.9876 - val_loss: 0.0549 - val_acc: 0.9850\n",
      "10000/10000 [==============================] - 2s 155us/sample - loss: 0.0471 - acc: 0.9837\n",
      "Accuracy trên tập test:  0.9837\n"
     ]
    }
   ],
   "source": [
    "# Dùng hàm fit để bắt đầu train\n",
    "## 2 tham số đầu là 2 numpy array, X_train là ảnh, y_train là label\n",
    "## batch_size: kích thước của data batch\n",
    "## epochs: số epoch tối đa muốn chạy\n",
    "## validation data: model sẽ được đánh giá trên tập valid mỗi epoch\n",
    "history = model.fit(X_train, y_train,\n",
    "                    batch_size=50,\n",
    "                    epochs=5,\n",
    "                    validation_data=(X_valid, y_valid))\n",
    "\n",
    "## Lưu model thành một file\n",
    "model.save_weights(\"first_model.h5\")\n",
    "\n",
    "\n",
    "## Load model\n",
    "model.load_weights(\"first_model.h5\")\n",
    "\n",
    "## Đánh giá model trên tập test\n",
    "test_loss, test_acc = model.evaluate(X_test, y_test)\n",
    "print(\"Accuracy trên tập test: \", test_acc)"
   ]
  },
  {
   "cell_type": "markdown",
   "metadata": {},
   "source": [
    "## Bài tập\n",
    "\n",
    "Hãy tạo và huấn luyện một mạng nơ-ron có cấu trúc sau\n",
    "```\n",
    "_________________________________________________________________\n",
    "Layer (type)                 Output Shape              Param #   \n",
    "=================================================================\n",
    "input_5 (InputLayer)         (None, 28, 28)            0         \n",
    "_________________________________________________________________\n",
    "reshape_4 (Reshape)          (None, 28, 28, 1)         0         \n",
    "_________________________________________________________________\n",
    "conv2d_5 (Conv2D)            (None, 28, 28, 20)        520       \n",
    "_________________________________________________________________\n",
    "max_pooling2d_5 (MaxPooling2 (None, 14, 14, 20)        0         \n",
    "_________________________________________________________________\n",
    "conv2d_6 (Conv2D)            (None, 14, 14, 20)        10020     \n",
    "_________________________________________________________________\n",
    "max_pooling2d_6 (MaxPooling2 (None, 7, 7, 20)          0         \n",
    "_________________________________________________________________\n",
    "flatten_4 (Flatten)          (None, 980)               0         \n",
    "_________________________________________________________________\n",
    "dense_4 (Dense)              (None, 10)                9810      \n",
    "=================================================================\n",
    "```\n"
   ]
  },
  {
   "cell_type": "code",
   "execution_count": null,
   "metadata": {},
   "outputs": [],
   "source": []
  }
 ],
 "metadata": {
  "kernelspec": {
   "display_name": "Python 3",
   "language": "python",
   "name": "python3"
  },
  "language_info": {
   "codemirror_mode": {
    "name": "ipython",
    "version": 3
   },
   "file_extension": ".py",
   "mimetype": "text/x-python",
   "name": "python",
   "nbconvert_exporter": "python",
   "pygments_lexer": "ipython3",
   "version": "3.7.2"
  }
 },
 "nbformat": 4,
 "nbformat_minor": 2
}
